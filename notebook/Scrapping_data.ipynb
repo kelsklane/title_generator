{
 "cells": [
  {
   "cell_type": "markdown",
   "id": "ce30206a",
   "metadata": {},
   "source": [
    "# Code for scrapping data"
   ]
  },
  {
   "cell_type": "code",
   "execution_count": 1,
   "id": "0f7a1ece",
   "metadata": {},
   "outputs": [],
   "source": [
    "import AO3\n",
    "import pandas as pd\n",
    "import numpy as np\n",
    "import time"
   ]
  },
  {
   "cell_type": "code",
   "execution_count": 2,
   "id": "2a1f26d8",
   "metadata": {},
   "outputs": [],
   "source": [
    "#Testing code snippet to grab titles and summaries to save in dataframe\n",
    "url = \"https://archiveofourown.org/works/11233080\"\n",
    "workid = AO3.utils.workid_from_url(url)\n",
    "work = AO3.Work(workid)\n",
    "title = work.title\n",
    "summary = work.summary"
   ]
  },
  {
   "cell_type": "code",
   "execution_count": 22,
   "id": "2d2a0607",
   "metadata": {},
   "outputs": [],
   "source": [
    "titles = []\n",
    "summaries = []\n",
    "\n",
    "for n in range(100, 201):\n",
    "    time.sleep(15)\n",
    "    search = AO3.Search(single_chapter = True, word_count=AO3.utils.Constraint(2500, 30000), language = 'en', page = n)\n",
    "    search.update()\n",
    "    for result in search.results:\n",
    "        titles.append(result.title)\n",
    "        try:\n",
    "            summaries.append(result.summary)\n",
    "        except:\n",
    "            summaries.append('No summary')"
   ]
  },
  {
   "cell_type": "code",
   "execution_count": 23,
   "id": "0e7c82f6",
   "metadata": {},
   "outputs": [],
   "source": [
    "df2 = pd.DataFrame(zip(titles, summaries), columns = ['title', 'summary'])"
   ]
  },
  {
   "cell_type": "code",
   "execution_count": 25,
   "id": "e496c943",
   "metadata": {},
   "outputs": [],
   "source": [
    "final = pd.concat([df, df2])"
   ]
  },
  {
   "cell_type": "code",
   "execution_count": 28,
   "id": "5d6c46ce",
   "metadata": {},
   "outputs": [],
   "source": [
    "final.to_csv('../data/frame_002', index = False)"
   ]
  },
  {
   "cell_type": "markdown",
   "id": "21b57fb0",
   "metadata": {},
   "source": [
    "# Code for cleaning"
   ]
  },
  {
   "cell_type": "markdown",
   "id": "604e67a6",
   "metadata": {},
   "source": [
    "## Check for duplicate rows"
   ]
  },
  {
   "cell_type": "code",
   "execution_count": 65,
   "id": "213ddb1b",
   "metadata": {},
   "outputs": [],
   "source": [
    "no_dupes = df[~df.duplicated()]"
   ]
  },
  {
   "cell_type": "code",
   "execution_count": 55,
   "id": "e0cde2aa",
   "metadata": {},
   "outputs": [],
   "source": [
    "import re\n",
    "from nltk.tokenize import word_tokenize\n",
    "import string\n",
    "\n",
    "punct = list(string.punctuation)\n",
    "\n",
    "def clean_summaries(text):\n",
    "    #Get rid of \\n at start and end of paragraph\n",
    "    text = re.sub(r'^\\\\n|\\\\n$', '', text)\n",
    "    #Capture groupings like \\xa0\n",
    "    text = re.sub(r'\\\\', r' ', text)\n",
    "    text = re.sub(r'\\\\(\\w+)', '', text)\n",
    "    #Normalize whitespace\n",
    "    text = re.sub(\"\\s\\s+\", \" \", text)\n",
    "    text_token = word_tokenize(text)\n",
    "    return [w.lower() for w in text_token if w not in punct]"
   ]
  },
  {
   "cell_type": "code",
   "execution_count": 30,
   "id": "22a5cad1",
   "metadata": {},
   "outputs": [
    {
     "ename": "IndentationError",
     "evalue": "expected an indented block (3121125942.py, line 7)",
     "output_type": "error",
     "traceback": [
      "\u001b[0;36m  Input \u001b[0;32mIn [30]\u001b[0;36m\u001b[0m\n\u001b[0;31m    else:\u001b[0m\n\u001b[0m    ^\u001b[0m\n\u001b[0;31mIndentationError\u001b[0m\u001b[0;31m:\u001b[0m expected an indented block\n"
     ]
    }
   ],
   "source": [
    "#Check if english title/summary\n",
    "from langdetect import detect\n",
    "\n",
    "answer = detect(\"Sentence to detect\")\n",
    "if answer != 'en':\n",
    "    #assign 1\n",
    "else:\n",
    "    #assign 0\n",
    "    \n",
    "#if summary == 'No summary':\n",
    "    #add flag to ignore row and/or drop"
   ]
  },
  {
   "cell_type": "markdown",
   "id": "c508ee00",
   "metadata": {},
   "source": [
    "# Code to train NN to generate new titles/summaries"
   ]
  },
  {
   "cell_type": "markdown",
   "id": "55607150",
   "metadata": {},
   "source": [
    "Merge all summaries together?"
   ]
  },
  {
   "cell_type": "code",
   "execution_count": null,
   "id": "a955436d",
   "metadata": {},
   "outputs": [],
   "source": [
    "train_len = 4 + 1\n",
    "\n",
    "text_sequences = []\n",
    "for i in range(train_len, len(tokens)):\n",
    "    seq = tokens[i - trian_len:i]\n",
    "    text_sequences.append(seq)"
   ]
  },
  {
   "cell_type": "code",
   "execution_count": null,
   "id": "daee8043",
   "metadata": {},
   "outputs": [],
   "source": [
    "from keras.preprocessing.text import Tokenizer\n",
    "\n",
    "tokenizer = Tokenizer()\n",
    "tokenzier.fit_on_texts(text_sequences)"
   ]
  },
  {
   "cell_type": "code",
   "execution_count": null,
   "id": "b5c0955c",
   "metadata": {},
   "outputs": [],
   "source": [
    "sequences = tokenizer.texts_to_sequences(text_sequences)\n",
    "sequences = np.array(sequences)"
   ]
  }
 ],
 "metadata": {
  "kernelspec": {
   "display_name": "Python (ao3)",
   "language": "python",
   "name": "ao3"
  },
  "language_info": {
   "codemirror_mode": {
    "name": "ipython",
    "version": 3
   },
   "file_extension": ".py",
   "mimetype": "text/x-python",
   "name": "python",
   "nbconvert_exporter": "python",
   "pygments_lexer": "ipython3",
   "version": "3.9.1"
  }
 },
 "nbformat": 4,
 "nbformat_minor": 5
}
