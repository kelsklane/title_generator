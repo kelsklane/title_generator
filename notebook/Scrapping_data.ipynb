{
 "cells": [
  {
   "cell_type": "markdown",
   "id": "ce30206a",
   "metadata": {},
   "source": [
    "# Code for scrapping data"
   ]
  },
  {
   "cell_type": "code",
   "execution_count": 1,
   "id": "0f7a1ece",
   "metadata": {},
   "outputs": [],
   "source": [
    "import AO3\n",
    "import pandas as pd\n",
    "import numpy as np\n",
    "import time"
   ]
  },
  {
   "cell_type": "code",
   "execution_count": 2,
   "id": "2a1f26d8",
   "metadata": {},
   "outputs": [],
   "source": [
    "#Testing code snippet to grab titles and summaries to save in dataframe\n",
    "url = \"https://archiveofourown.org/works/11233080\"\n",
    "workid = AO3.utils.workid_from_url(url)\n",
    "work = AO3.Work(workid)\n",
    "title = work.title\n",
    "summary = work.summary"
   ]
  },
  {
   "cell_type": "code",
   "execution_count": 2,
   "id": "2d2a0607",
   "metadata": {},
   "outputs": [],
   "source": [
    "titles = []\n",
    "summaries = []\n",
    "\n",
    "for n in range(18000, 18201):\n",
    "    time.sleep(15)\n",
    "    search = AO3.Search(single_chapter = True, word_count=AO3.utils.Constraint(2500, 30000), language = 'en', page = n)\n",
    "    search.update()\n",
    "    for result in search.results:\n",
    "        titles.append(result.title)\n",
    "        try:\n",
    "            summaries.append(result.summary)\n",
    "        except:\n",
    "            summaries.append('No summary')"
   ]
  },
  {
   "cell_type": "code",
   "execution_count": 3,
   "id": "0e7c82f6",
   "metadata": {},
   "outputs": [],
   "source": [
    "df = pd.DataFrame(zip(titles, summaries), columns = ['title', 'summary'])"
   ]
  },
  {
   "cell_type": "code",
   "execution_count": 4,
   "id": "5d6c46ce",
   "metadata": {},
   "outputs": [],
   "source": [
    "df.to_csv('../data/frame_008', index = False)"
   ]
  },
  {
   "cell_type": "markdown",
   "id": "21b57fb0",
   "metadata": {},
   "source": [
    "# Code for cleaning"
   ]
  },
  {
   "cell_type": "markdown",
   "id": "604e67a6",
   "metadata": {},
   "source": [
    "## Check for duplicate rows"
   ]
  },
  {
   "cell_type": "code",
   "execution_count": 65,
   "id": "213ddb1b",
   "metadata": {},
   "outputs": [],
   "source": [
    "no_dupes = df[~df.duplicated()]"
   ]
  },
  {
   "cell_type": "code",
   "execution_count": 55,
   "id": "e0cde2aa",
   "metadata": {},
   "outputs": [],
   "source": [
    "import re\n",
    "from nltk.tokenize import word_tokenize\n",
    "import string\n",
    "\n",
    "punct = list(string.punctuation)\n",
    "\n",
    "def clean_summaries(text):\n",
    "    #Get rid of \\n at start and end of paragraph\n",
    "    text = re.sub(r'^\\\\n|\\\\n$', '', text)\n",
    "    #Capture groupings like \\xa0\n",
    "    text = re.sub(r'\\\\', r' ', text)\n",
    "    text = re.sub(r'\\\\(\\w+)', '', text)\n",
    "    #Normalize whitespace\n",
    "    text = re.sub(\"\\s\\s+\", \" \", text)\n",
    "    text_token = word_tokenize(text)\n",
    "    return [w.lower() for w in text_token if w not in punct]"
   ]
  },
  {
   "cell_type": "code",
   "execution_count": 30,
   "id": "22a5cad1",
   "metadata": {},
   "outputs": [
    {
     "ename": "IndentationError",
     "evalue": "expected an indented block (3121125942.py, line 7)",
     "output_type": "error",
     "traceback": [
      "\u001b[0;36m  Input \u001b[0;32mIn [30]\u001b[0;36m\u001b[0m\n\u001b[0;31m    else:\u001b[0m\n\u001b[0m    ^\u001b[0m\n\u001b[0;31mIndentationError\u001b[0m\u001b[0;31m:\u001b[0m expected an indented block\n"
     ]
    }
   ],
   "source": [
    "#Check if english title/summary\n",
    "from langdetect import detect\n",
    "\n",
    "answer = detect(\"Sentence to detect\")\n",
    "if answer != 'en':\n",
    "    #assign 1\n",
    "else:\n",
    "    #assign 0\n",
    "    \n",
    "#if summary == 'No summary':\n",
    "    #add flag to ignore row and/or drop"
   ]
  },
  {
   "cell_type": "markdown",
   "id": "c508ee00",
   "metadata": {},
   "source": [
    "# Code to train NN to generate new titles/summaries"
   ]
  },
  {
   "cell_type": "markdown",
   "id": "55607150",
   "metadata": {},
   "source": [
    "Merge all summaries + titles together to one long string\n",
    "Base train length on average length of summary/title"
   ]
  },
  {
   "cell_type": "code",
   "execution_count": null,
   "id": "a955436d",
   "metadata": {},
   "outputs": [],
   "source": [
    "train_len = 4 + 1\n",
    "\n",
    "text_sequences = []\n",
    "for i in range(train_len, len(tokens)):\n",
    "    seq = tokens[i - trian_len:i]\n",
    "    text_sequences.append(seq)"
   ]
  },
  {
   "cell_type": "code",
   "execution_count": null,
   "id": "daee8043",
   "metadata": {},
   "outputs": [],
   "source": [
    "from keras.preprocessing.text import Tokenizer\n",
    "\n",
    "tokenizer = Tokenizer()\n",
    "tokenzier.fit_on_texts(text_sequences)\n",
    "\n",
    "vocabulary_size = len(tokenizer.word_counts())"
   ]
  },
  {
   "cell_type": "code",
   "execution_count": null,
   "id": "b5c0955c",
   "metadata": {},
   "outputs": [],
   "source": [
    "sequences = tokenizer.texts_to_sequences(text_sequences)\n",
    "sequences = np.array(sequences)"
   ]
  },
  {
   "cell_type": "markdown",
   "id": "cd033b04",
   "metadata": {},
   "source": [
    "Create X and y dataframes"
   ]
  },
  {
   "cell_type": "code",
   "execution_count": null,
   "id": "c485a1ef",
   "metadata": {},
   "outputs": [],
   "source": [
    "from keras.utils import to_categorical\n",
    "\n",
    "X = sequences[:, :-1]\n",
    "y = sequences[:, -1]\n",
    "\n",
    "y = to_categorical(y, num_classes = vocabulary_size + 1)\n",
    "seq_len = X.shape[1]"
   ]
  },
  {
   "cell_type": "code",
   "execution_count": null,
   "id": "15d5006a",
   "metadata": {},
   "outputs": [],
   "source": [
    "from keras.models import Sequential\n",
    "from keras.layers import Dense, LSTM, Embedding\n",
    "\n",
    "neurons = train_len * 3\n",
    "dense_neurons = train_len * 4\n",
    "\n",
    "def create_model(vocabulary_size, seq_len):\n",
    "    model = Sequential()\n",
    "    model.add(Embedding(vocabulary_size, seq_len, input_length = seq_len))\n",
    "    model.add(LSTM(neurons, return_sequences = True))\n",
    "    model.add(LSTM(neurons))\n",
    "    model.add(Dense(dense_neurons, activation = 'relu'))\n",
    "    \n",
    "    model.add(Dense(vocabulary_size, activation = 'softmax'))\n",
    "    \n",
    "    model.compile(loss = 'categorical_crossentropy', optimizer = 'adam', metrics = ['accuracy'])\n",
    "    \n",
    "    model.summary()\n",
    "    \n",
    "    return model"
   ]
  },
  {
   "cell_type": "code",
   "execution_count": null,
   "id": "10b12c25",
   "metadata": {},
   "outputs": [],
   "source": [
    "model = create_model(vocabulary_size + 1, seq_len)"
   ]
  },
  {
   "cell_type": "code",
   "execution_count": null,
   "id": "1db34168",
   "metadata": {},
   "outputs": [],
   "source": [
    "from pickle import dump, load\n",
    "\n",
    "model.fit(X, y, batch_size = 128, epochs = 50, verbose = 1)"
   ]
  },
  {
   "cell_type": "code",
   "execution_count": null,
   "id": "95f4077e",
   "metadata": {},
   "outputs": [],
   "source": [
    "model.save('fic_title_generator.h5')"
   ]
  },
  {
   "cell_type": "code",
   "execution_count": null,
   "id": "4c70db6c",
   "metadata": {},
   "outputs": [],
   "source": [
    "dump(tokenizer, open('title_tokens', 'wb'))"
   ]
  },
  {
   "cell_type": "markdown",
   "id": "e12c64a9",
   "metadata": {},
   "source": [
    "## Generate new text"
   ]
  },
  {
   "cell_type": "code",
   "execution_count": null,
   "id": "537c4833",
   "metadata": {},
   "outputs": [],
   "source": [
    "from keras.preprocessing.sequences import pad_sequences\n",
    "\n",
    "#Make starter list for seed_text and choose random starter point\n",
    "\n",
    "def generate_title(model, tokenizer, seq_len, seed_text, num_gen_words):\n",
    "    \n",
    "    output_text = []\n",
    "    input_text = seed_text\n",
    "    \n",
    "    for i in range(num_gen_words):\n",
    "        encoded_text = tokenizer.texts_to_sequences([input_text])[0]\n",
    "        pad_encoded = pad_sequences([encoded_text], maxlen = seq_len, truncating = 'pre')\n",
    "        pred_word_idx = model.predict_classes(pad_encoded, verbose = 0)[0]\n",
    "        pred_word = tokenzier.index_word[pred_word_idx]\n",
    "        \n",
    "        input_text += ' ' + pred_word\n",
    "        output_text.append(pred_word)\n",
    "    \n",
    "    return \" \".join(output_text)"
   ]
  },
  {
   "cell_type": "code",
   "execution_count": null,
   "id": "ec629825",
   "metadata": {},
   "outputs": [],
   "source": [
    "from keras.models import load_model\n",
    "\n",
    "model = load_model('fic_title_generator.h5')\n",
    "tokenizer = load(open('title_tokens', 'rb'))"
   ]
  }
 ],
 "metadata": {
  "kernelspec": {
   "display_name": "Python (ao3)",
   "language": "python",
   "name": "ao3"
  },
  "language_info": {
   "codemirror_mode": {
    "name": "ipython",
    "version": 3
   },
   "file_extension": ".py",
   "mimetype": "text/x-python",
   "name": "python",
   "nbconvert_exporter": "python",
   "pygments_lexer": "ipython3",
   "version": "3.9.1"
  }
 },
 "nbformat": 4,
 "nbformat_minor": 5
}
