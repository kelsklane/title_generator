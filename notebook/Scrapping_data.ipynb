{
 "cells": [
  {
   "cell_type": "code",
   "execution_count": 5,
   "id": "0f7a1ece",
   "metadata": {},
   "outputs": [],
   "source": [
    "import AO3\n",
    "import pandas as pd\n",
    "import numpy as np\n",
    "import time"
   ]
  },
  {
   "cell_type": "code",
   "execution_count": 28,
   "id": "2a1f26d8",
   "metadata": {},
   "outputs": [],
   "source": [
    "#Testing code snippet to grab titles and summaries to save in dataframe\n",
    "url = \"https://archiveofourown.org/works/11233080\"\n",
    "workid = AO3.utils.workid_from_url(url)\n",
    "work = AO3.Work(workid)\n",
    "title = work.title\n",
    "summary = work.summary"
   ]
  },
  {
   "cell_type": "code",
   "execution_count": 38,
   "id": "2d2a0607",
   "metadata": {},
   "outputs": [],
   "source": [
    "titles = []\n",
    "summaries = []\n",
    "\n",
    "for n in range(1, 6):\n",
    "    time.sleep(10)\n",
    "    search = AO3.Search(single_chapter = True, word_count=AO3.utils.Constraint(2500, 30000), language = 'en', page = n)\n",
    "    search.update()\n",
    "    for result in search.results:\n",
    "        titles.append(result.title)\n",
    "        try:\n",
    "            summaries.append(result.summary)\n",
    "        except:\n",
    "            summaries.append('No summary')"
   ]
  },
  {
   "cell_type": "code",
   "execution_count": 44,
   "id": "0e7c82f6",
   "metadata": {},
   "outputs": [],
   "source": [
    "df = pd.DataFrame(zip(titles, summaries), columns = ['title', 'summary'])"
   ]
  },
  {
   "cell_type": "code",
   "execution_count": 46,
   "id": "5d6c46ce",
   "metadata": {},
   "outputs": [],
   "source": [
    "df.to_csv('../data/frame_001', index = False)"
   ]
  },
  {
   "cell_type": "code",
   "execution_count": null,
   "id": "eacee719",
   "metadata": {},
   "outputs": [],
   "source": []
  }
 ],
 "metadata": {
  "kernelspec": {
   "display_name": "Python (ao3)",
   "language": "python",
   "name": "ao3"
  },
  "language_info": {
   "codemirror_mode": {
    "name": "ipython",
    "version": 3
   },
   "file_extension": ".py",
   "mimetype": "text/x-python",
   "name": "python",
   "nbconvert_exporter": "python",
   "pygments_lexer": "ipython3",
   "version": "3.9.1"
  }
 },
 "nbformat": 4,
 "nbformat_minor": 5
}
