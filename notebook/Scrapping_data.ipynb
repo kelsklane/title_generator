{
 "cells": [
  {
   "cell_type": "markdown",
   "id": "ce30206a",
   "metadata": {},
   "source": [
    "# Code for scrapping data"
   ]
  },
  {
   "cell_type": "code",
   "execution_count": 1,
   "id": "0f7a1ece",
   "metadata": {},
   "outputs": [],
   "source": [
    "import AO3\n",
    "import pandas as pd\n",
    "import numpy as np\n",
    "import time"
   ]
  },
  {
   "cell_type": "code",
   "execution_count": 2,
   "id": "2a1f26d8",
   "metadata": {},
   "outputs": [],
   "source": [
    "#Testing code snippet to grab titles and summaries to save in dataframe\n",
    "url = \"https://archiveofourown.org/works/11233080\"\n",
    "workid = AO3.utils.workid_from_url(url)\n",
    "work = AO3.Work(workid)\n",
    "title = work.title\n",
    "summary = work.summary"
   ]
  },
  {
   "cell_type": "code",
   "execution_count": 2,
   "id": "2d2a0607",
   "metadata": {},
   "outputs": [],
   "source": [
    "titles = []\n",
    "summaries = []\n",
    "\n",
    "for n in range(20000, 20201):\n",
    "    time.sleep(15)\n",
    "    search = AO3.Search(single_chapter = True, word_count=AO3.utils.Constraint(2500, 30000), language = 'en', page = n)\n",
    "    search.update()\n",
    "    for result in search.results:\n",
    "        titles.append(result.title)\n",
    "        try:\n",
    "            summaries.append(result.summary)\n",
    "        except:\n",
    "            summaries.append('No summary')"
   ]
  },
  {
   "cell_type": "code",
   "execution_count": 3,
   "id": "0e7c82f6",
   "metadata": {},
   "outputs": [],
   "source": [
    "df = pd.DataFrame(zip(titles, summaries), columns = ['title', 'summary'])"
   ]
  },
  {
   "cell_type": "code",
   "execution_count": 4,
   "id": "5d6c46ce",
   "metadata": {},
   "outputs": [],
   "source": [
    "df.to_csv('../data/frame_009', index = False)"
   ]
  },
  {
   "cell_type": "code",
   "execution_count": 2,
   "id": "bff42b8d",
   "metadata": {},
   "outputs": [],
   "source": [
    "df1 = pd.read_csv('../data/frame_001')\n",
    "df2 = pd.read_csv('../data/frame_002')\n",
    "df3 = pd.read_csv('../data/frame_003')\n",
    "df4 = pd.read_csv('../data/frame_004')\n",
    "df5 = pd.read_csv('../data/frame_005')\n",
    "df6 = pd.read_csv('../data/frame_006')\n",
    "df7 = pd.read_csv('../data/frame_007')\n",
    "df8 = pd.read_csv('../data/frame_008')\n",
    "df9 = pd.read_csv('../data/frame_009')"
   ]
  },
  {
   "cell_type": "code",
   "execution_count": 19,
   "id": "9bca4b2b",
   "metadata": {},
   "outputs": [],
   "source": [
    "df1.rename(columns={'fic_title': 'title'}, inplace=True)"
   ]
  },
  {
   "cell_type": "code",
   "execution_count": 44,
   "id": "386d8333",
   "metadata": {},
   "outputs": [],
   "source": [
    "final = pd.concat([df1, df2, df3, df4, df5, df6, df7, df8, df9], ignore_index = True)"
   ]
  },
  {
   "cell_type": "markdown",
   "id": "21b57fb0",
   "metadata": {},
   "source": [
    "# Code for cleaning"
   ]
  },
  {
   "cell_type": "markdown",
   "id": "604e67a6",
   "metadata": {},
   "source": [
    "## Check for duplicate rows"
   ]
  },
  {
   "cell_type": "code",
   "execution_count": 45,
   "id": "213ddb1b",
   "metadata": {},
   "outputs": [],
   "source": [
    "no_dupes = final[~final.duplicated()]"
   ]
  },
  {
   "cell_type": "code",
   "execution_count": 21,
   "id": "e0cde2aa",
   "metadata": {},
   "outputs": [],
   "source": [
    "import re\n",
    "from nltk.tokenize import word_tokenize\n",
    "from nltk.tokenize.treebank import TreebankWordDetokenizer\n",
    "import string\n",
    "\n",
    "punct = list(string.punctuation)\n",
    "\n",
    "def clean_summaries(text):\n",
    "    #Get rid of \\n at start and end of paragraph\n",
    "    text = re.sub(r'^\\\\n|\\\\n$', '', text)\n",
    "    #Capture groupings like \\xa0\n",
    "    text = re.sub(r'\\\\', r' ', text)\n",
    "    text = re.sub(r'\\\\(\\w+)', '', text)\n",
    "    #Normalize whitespace\n",
    "    text = re.sub(\"\\s\\s+\", \" \", text)\n",
    "    text_token = word_tokenize(text)\n",
    "    text_token = [w.lower() for w in text_token if w not in punct]\n",
    "    text = TreebankWordDetokenizer().detokenize(text_token)\n",
    "    return text"
   ]
  },
  {
   "cell_type": "code",
   "execution_count": 30,
   "id": "d6b4c3c4",
   "metadata": {},
   "outputs": [
    {
     "name": "stderr",
     "output_type": "stream",
     "text": [
      "/var/folders/j9/ykvypybn0j5fft1yld3l1xrw0000gn/T/ipykernel_2416/1580445297.py:1: SettingWithCopyWarning: \n",
      "A value is trying to be set on a copy of a slice from a DataFrame.\n",
      "Try using .loc[row_indexer,col_indexer] = value instead\n",
      "\n",
      "See the caveats in the documentation: https://pandas.pydata.org/pandas-docs/stable/user_guide/indexing.html#returning-a-view-versus-a-copy\n",
      "  no_dupes.summary = no_dupes.summary.apply(clean_summaries)\n"
     ]
    }
   ],
   "source": [
    "no_dupes.summary = no_dupes.summary.apply(clean_summaries)"
   ]
  },
  {
   "cell_type": "code",
   "execution_count": 39,
   "id": "b18ab26f",
   "metadata": {},
   "outputs": [],
   "source": [
    "lengths = no_dupes.apply(lambda x: len(x.summary), axis = 1)\n",
    "no_dupes = no_dupes.assign(sum_length = lengths.values)"
   ]
  },
  {
   "cell_type": "code",
   "execution_count": 50,
   "id": "fdb417a9",
   "metadata": {},
   "outputs": [],
   "source": [
    "no_dupes.to_csv('../data/final_frame', index = False)"
   ]
  },
  {
   "cell_type": "code",
   "execution_count": 19,
   "id": "59ace6cb",
   "metadata": {},
   "outputs": [],
   "source": [
    "df = pd.read_csv('../data/final_frame')\n",
    "final = df[~(df.summary == 'No summary')]"
   ]
  },
  {
   "cell_type": "code",
   "execution_count": 7,
   "id": "22a5cad1",
   "metadata": {},
   "outputs": [],
   "source": [
    "#Detect if English"
   ]
  },
  {
   "cell_type": "code",
   "execution_count": 22,
   "id": "006421d5",
   "metadata": {},
   "outputs": [
    {
     "name": "stderr",
     "output_type": "stream",
     "text": [
      "/var/folders/j9/ykvypybn0j5fft1yld3l1xrw0000gn/T/ipykernel_2702/2493992300.py:1: SettingWithCopyWarning: \n",
      "A value is trying to be set on a copy of a slice from a DataFrame.\n",
      "Try using .loc[row_indexer,col_indexer] = value instead\n",
      "\n",
      "See the caveats in the documentation: https://pandas.pydata.org/pandas-docs/stable/user_guide/indexing.html#returning-a-view-versus-a-copy\n",
      "  final.summary = final.summary.apply(clean_summaries)\n"
     ]
    }
   ],
   "source": [
    "final.summary = final.summary.apply(clean_summaries)"
   ]
  },
  {
   "cell_type": "markdown",
   "id": "c508ee00",
   "metadata": {},
   "source": [
    "# Code to train NN to generate new titles/summaries"
   ]
  },
  {
   "cell_type": "markdown",
   "id": "55607150",
   "metadata": {},
   "source": [
    "Merge all summaries + titles together to one long string\n",
    "Base train length on average length of summary/title\n",
    "- summary = 38"
   ]
  },
  {
   "cell_type": "code",
   "execution_count": 29,
   "id": "496f4e5f",
   "metadata": {},
   "outputs": [],
   "source": [
    "all_sum = ' '.join(final.summary)\n",
    "all_sum = re.sub(r'\\\\', r'', all_sum)"
   ]
  },
  {
   "cell_type": "code",
   "execution_count": null,
   "id": "a955436d",
   "metadata": {},
   "outputs": [],
   "source": [
    "train_len = 37 + 1\n",
    "\n",
    "text_sequences = []\n",
    "for i in range(train_len, len(tokens)):\n",
    "    seq = tokens[i - trian_len:i]\n",
    "    text_sequences.append(seq)"
   ]
  },
  {
   "cell_type": "code",
   "execution_count": null,
   "id": "daee8043",
   "metadata": {},
   "outputs": [],
   "source": [
    "from keras.preprocessing.text import Tokenizer\n",
    "\n",
    "tokenizer = Tokenizer()\n",
    "tokenzier.fit_on_texts(text_sequences)\n",
    "\n",
    "vocabulary_size = len(tokenizer.word_counts())"
   ]
  },
  {
   "cell_type": "code",
   "execution_count": null,
   "id": "b5c0955c",
   "metadata": {},
   "outputs": [],
   "source": [
    "sequences = tokenizer.texts_to_sequences(text_sequences)\n",
    "sequences = np.array(sequences)"
   ]
  },
  {
   "cell_type": "markdown",
   "id": "cd033b04",
   "metadata": {},
   "source": [
    "Create X and y dataframes"
   ]
  },
  {
   "cell_type": "code",
   "execution_count": null,
   "id": "c485a1ef",
   "metadata": {},
   "outputs": [],
   "source": [
    "from keras.utils import to_categorical\n",
    "\n",
    "X = sequences[:, :-1]\n",
    "y = sequences[:, -1]\n",
    "\n",
    "y = to_categorical(y, num_classes = vocabulary_size + 1)\n",
    "seq_len = X.shape[1]"
   ]
  },
  {
   "cell_type": "code",
   "execution_count": null,
   "id": "15d5006a",
   "metadata": {},
   "outputs": [],
   "source": [
    "from keras.models import Sequential\n",
    "from keras.layers import Dense, LSTM, Embedding\n",
    "\n",
    "neurons = train_len * 3\n",
    "dense_neurons = train_len * 4\n",
    "\n",
    "def create_model(vocabulary_size, seq_len):\n",
    "    model = Sequential()\n",
    "    model.add(Embedding(vocabulary_size, seq_len, input_length = seq_len))\n",
    "    model.add(LSTM(neurons, return_sequences = True))\n",
    "    model.add(LSTM(neurons))\n",
    "    model.add(Dense(dense_neurons, activation = 'relu'))\n",
    "    \n",
    "    model.add(Dense(vocabulary_size, activation = 'softmax'))\n",
    "    \n",
    "    model.compile(loss = 'categorical_crossentropy', optimizer = 'adam', metrics = ['accuracy'])\n",
    "    \n",
    "    model.summary()\n",
    "    \n",
    "    return model"
   ]
  },
  {
   "cell_type": "code",
   "execution_count": null,
   "id": "10b12c25",
   "metadata": {},
   "outputs": [],
   "source": [
    "model = create_model(vocabulary_size + 1, seq_len)"
   ]
  },
  {
   "cell_type": "code",
   "execution_count": null,
   "id": "1db34168",
   "metadata": {},
   "outputs": [],
   "source": [
    "from pickle import dump, load\n",
    "\n",
    "model.fit(X, y, batch_size = 128, epochs = 50, verbose = 1)"
   ]
  },
  {
   "cell_type": "code",
   "execution_count": null,
   "id": "95f4077e",
   "metadata": {},
   "outputs": [],
   "source": [
    "model.save('fic_title_generator.h5')"
   ]
  },
  {
   "cell_type": "code",
   "execution_count": null,
   "id": "4c70db6c",
   "metadata": {},
   "outputs": [],
   "source": [
    "dump(tokenizer, open('title_tokens', 'wb'))"
   ]
  },
  {
   "cell_type": "markdown",
   "id": "e12c64a9",
   "metadata": {},
   "source": [
    "## Generate new text"
   ]
  },
  {
   "cell_type": "code",
   "execution_count": null,
   "id": "537c4833",
   "metadata": {},
   "outputs": [],
   "source": [
    "from keras.preprocessing.sequences import pad_sequences\n",
    "\n",
    "#Make starter list for seed_text and choose random starter point\n",
    "\n",
    "def generate_title(model, tokenizer, seq_len, seed_text, num_gen_words):\n",
    "    \n",
    "    output_text = []\n",
    "    input_text = seed_text\n",
    "    \n",
    "    for i in range(num_gen_words):\n",
    "        encoded_text = tokenizer.texts_to_sequences([input_text])[0]\n",
    "        pad_encoded = pad_sequences([encoded_text], maxlen = seq_len, truncating = 'pre')\n",
    "        pred_word_idx = model.predict_classes(pad_encoded, verbose = 0)[0]\n",
    "        pred_word = tokenzier.index_word[pred_word_idx]\n",
    "        \n",
    "        input_text += ' ' + pred_word\n",
    "        output_text.append(pred_word)\n",
    "    \n",
    "    return \" \".join(output_text)"
   ]
  },
  {
   "cell_type": "code",
   "execution_count": null,
   "id": "ec629825",
   "metadata": {},
   "outputs": [],
   "source": [
    "from keras.models import load_model\n",
    "\n",
    "model = load_model('fic_title_generator.h5')\n",
    "tokenizer = load(open('title_tokens', 'rb'))"
   ]
  }
 ],
 "metadata": {
  "kernelspec": {
   "display_name": "Python (ao3)",
   "language": "python",
   "name": "ao3"
  },
  "language_info": {
   "codemirror_mode": {
    "name": "ipython",
    "version": 3
   },
   "file_extension": ".py",
   "mimetype": "text/x-python",
   "name": "python",
   "nbconvert_exporter": "python",
   "pygments_lexer": "ipython3",
   "version": "3.9.1"
  }
 },
 "nbformat": 4,
 "nbformat_minor": 5
}
